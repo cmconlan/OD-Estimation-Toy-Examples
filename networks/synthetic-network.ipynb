{
 "cells": [
  {
   "cell_type": "markdown",
   "metadata": {},
   "source": [
    "Generate Synthetic Network for OD Estimation Problem\n",
    "\n",
    "- Simple network with e.g. 3 junction at each an off-ramp and an on-ramp\n",
    "- Network edge features: length and speed limit\n",
    "- All road uni-directional in simple toy example - we can extend this later to more complex case of bi-directional roads\n",
    "- Distinction between fast (main) roads and slow (off/on ramps, minor roads) - this may be more important when route choice introduced\n",
    "- Output the path incidence matrix and assignment matrix assuming no route choice beyond shortest path\n",
    "- Generate an OD matrix for the system - e.g. randomly or through some distribution function\n",
    "- Translate OD matrix to\n",
    "    - Actual edge level flow\n",
    "    - INRIX like flow - give x% sample of vehicles in OD matrix a tracker and record their flow\n",
    "    - MIDAS - record all vehicles at certain points on the network"
   ]
  },
  {
   "cell_type": "code",
   "execution_count": 136,
   "metadata": {},
   "outputs": [],
   "source": [
    "import networkx as nx\n",
    "import matplotlib.pyplot as plt\n",
    "import pandas as pd\n",
    "import numpy as np\n",
    "from random import randrange, uniform\n",
    "\n",
    "def add_gaussian_noise(traffic_data, mean=0, std_dev=1):\n",
    "    noise = np.random.normal(mean, std_dev)\n",
    "    return traffic_data + noise"
   ]
  },
  {
   "cell_type": "code",
   "execution_count": 8,
   "metadata": {},
   "outputs": [
    {
     "data": {
      "text/plain": [
       "<function matplotlib.pyplot.show(close=None, block=None)>"
      ]
     },
     "execution_count": 8,
     "metadata": {},
     "output_type": "execute_result"
    },
    {
     "data": {
      "image/png": "[encoded data removed]",
      "text/plain": [
       "<Figure size 640x480 with 1 Axes>"
      ]
     },
     "metadata": {},
     "output_type": "display_data"
    }
   ],
   "source": [
    "# Create network with 3 junctions\n",
    "\n",
    "# Create an empty graph\n",
    "G = nx.DiGraph()\n",
    "\n",
    "# Add nodes\n",
    "nodes = ['A','B','C','D','E','F','G','H']\n",
    "G.add_nodes_from(nodes)\n",
    "\n",
    "fast_road_sl = 60\n",
    "slow_road_sl = 30\n",
    "\n",
    "# Add Edges\n",
    "edges = [\n",
    "    #Main road edges\n",
    "    ('A','B',{'length': 100, 'speed limit': fast_road_sl}),\n",
    "    ('B','D',{'length': 20, 'speed limit': fast_road_sl}),\n",
    "    ('D','E',{'length': 150, 'speed limit': fast_road_sl}),\n",
    "    ('E','G',{'length': 20, 'speed limit': fast_road_sl}),\n",
    "    ('G','H',{'length': 75, 'speed limit': fast_road_sl}),\n",
    "    \n",
    "    #Slow on/off ramps\n",
    "    ('B','C',{'length': 30, 'speed limit': slow_road_sl}),\n",
    "    ('C','D',{'length': 30, 'speed limit': slow_road_sl}),\n",
    "    ('E','F',{'length': 25, 'speed limit': slow_road_sl}),\n",
    "    ('F','G',{'length': 25, 'speed limit': slow_road_sl})\n",
    "]\n",
    "\n",
    "G.add_edges_from(edges)\n",
    "\n",
    "#Visualise Network\n",
    "\n",
    "pos = nx.spring_layout(G)  # positions for all nodes\n",
    "\n",
    "nx.draw(G, pos, with_labels=True, font_weight='bold')\n",
    "\n",
    "# Edge labels\n",
    "edge_labels = nx.get_edge_attributes(G, 'length')\n",
    "nx.draw_networkx_edge_labels(G, pos, edge_labels=edge_labels)\n",
    "\n",
    "plt.show"
   ]
  },
  {
   "cell_type": "code",
   "execution_count": 23,
   "metadata": {},
   "outputs": [],
   "source": [
    "# Define edge nodes \n",
    "\n",
    "NB = ['A','C','F','H']\n",
    "\n",
    "# Possible destinations for each edge node\n",
    "\n",
    "NB_Routes = {}\n",
    "NB_Routes['A'] = ['C','F','H']\n",
    "NB_Routes['C'] = ['F','H']\n",
    "NB_Routes['F'] = ['H']\n",
    "NB_Routes['H'] = []"
   ]
  },
  {
   "cell_type": "code",
   "execution_count": 46,
   "metadata": {},
   "outputs": [],
   "source": [
    "# Matrices to describe network\n",
    "# Note that in simple example we assume no route choice variance for OD pairs\n",
    "# In this case paths IDs will match OD IDs - which won't be the case when route choice included\n",
    "# E.g., each OD will have multiple possible paths each with a unique ID\n",
    "# TODO - this code not designed for considering route choice\n",
    "\n",
    "routes_sp = {}\n",
    "paths = {}\n",
    "ods = {}\n",
    "od_id = 1\n",
    "path_id = 1\n",
    "\n",
    "for o in NB:\n",
    "    destinations = NB_Routes[o]\n",
    "    if len(destinations) > 0:\n",
    "        routes_sp[o] = {}\n",
    "    for d in destinations:\n",
    "        routes_sp[o][d]=nx.shortest_path(G,o,d,weight = 'length')\n",
    "        paths[path_id] = tuple([o,d])\n",
    "        path_id += 1\n",
    "        ods[tuple([o,d])] = od_id\n",
    "        od_id += 1"
   ]
  },
  {
   "cell_type": "code",
   "execution_count": 48,
   "metadata": {},
   "outputs": [],
   "source": [
    "# Get path incidence - (!Assumption - only consider routes that originate at a border node!)\n",
    "\n",
    "link_path_matrix = pd.DataFrame(0, index = pd.MultiIndex.from_tuples(list(G.edges) ), columns = list(paths.keys()))\n",
    "\n",
    "for id in list(paths.keys()):\n",
    "    path = routes_sp[paths[id][0]][paths[id][1]]\n",
    "    u = path[0]\n",
    "    for v in path[1:]:\n",
    "        edge = tuple([u,v])\n",
    "        link_path_matrix.loc[edge,id] = 1\n",
    "        u = v"
   ]
  },
  {
   "cell_type": "code",
   "execution_count": 49,
   "metadata": {},
   "outputs": [
    {
     "data": {
      "text/html": [
       "<div>\n",
       "<style scoped>\n",
       "    .dataframe tbody tr th:only-of-type {\n",
       "        vertical-align: middle;\n",
       "    }\n",
       "\n",
       "    .dataframe tbody tr th {\n",
       "        vertical-align: top;\n",
       "    }\n",
       "\n",
       "    .dataframe thead th {\n",
       "        text-align: right;\n",
       "    }\n",
       "</style>\n",
       "<table border=\"1\" class=\"dataframe\">\n",
       "  <thead>\n",
       "    <tr style=\"text-align: right;\">\n",
       "      <th></th>\n",
       "      <th></th>\n",
       "      <th>1</th>\n",
       "      <th>2</th>\n",
       "      <th>3</th>\n",
       "      <th>4</th>\n",
       "      <th>5</th>\n",
       "      <th>6</th>\n",
       "    </tr>\n",
       "  </thead>\n",
       "  <tbody>\n",
       "    <tr>\n",
       "      <th>A</th>\n",
       "      <th>B</th>\n",
       "      <td>1</td>\n",
       "      <td>1</td>\n",
       "      <td>1</td>\n",
       "      <td>0</td>\n",
       "      <td>0</td>\n",
       "      <td>0</td>\n",
       "    </tr>\n",
       "    <tr>\n",
       "      <th rowspan=\"2\" valign=\"top\">B</th>\n",
       "      <th>D</th>\n",
       "      <td>0</td>\n",
       "      <td>1</td>\n",
       "      <td>1</td>\n",
       "      <td>0</td>\n",
       "      <td>0</td>\n",
       "      <td>0</td>\n",
       "    </tr>\n",
       "    <tr>\n",
       "      <th>C</th>\n",
       "      <td>1</td>\n",
       "      <td>0</td>\n",
       "      <td>0</td>\n",
       "      <td>0</td>\n",
       "      <td>0</td>\n",
       "      <td>0</td>\n",
       "    </tr>\n",
       "    <tr>\n",
       "      <th>C</th>\n",
       "      <th>D</th>\n",
       "      <td>0</td>\n",
       "      <td>0</td>\n",
       "      <td>0</td>\n",
       "      <td>1</td>\n",
       "      <td>1</td>\n",
       "      <td>0</td>\n",
       "    </tr>\n",
       "    <tr>\n",
       "      <th>D</th>\n",
       "      <th>E</th>\n",
       "      <td>0</td>\n",
       "      <td>1</td>\n",
       "      <td>1</td>\n",
       "      <td>1</td>\n",
       "      <td>1</td>\n",
       "      <td>0</td>\n",
       "    </tr>\n",
       "    <tr>\n",
       "      <th rowspan=\"2\" valign=\"top\">E</th>\n",
       "      <th>G</th>\n",
       "      <td>0</td>\n",
       "      <td>0</td>\n",
       "      <td>1</td>\n",
       "      <td>0</td>\n",
       "      <td>1</td>\n",
       "      <td>0</td>\n",
       "    </tr>\n",
       "    <tr>\n",
       "      <th>F</th>\n",
       "      <td>0</td>\n",
       "      <td>1</td>\n",
       "      <td>0</td>\n",
       "      <td>1</td>\n",
       "      <td>0</td>\n",
       "      <td>0</td>\n",
       "    </tr>\n",
       "    <tr>\n",
       "      <th>F</th>\n",
       "      <th>G</th>\n",
       "      <td>0</td>\n",
       "      <td>0</td>\n",
       "      <td>0</td>\n",
       "      <td>0</td>\n",
       "      <td>0</td>\n",
       "      <td>1</td>\n",
       "    </tr>\n",
       "    <tr>\n",
       "      <th>G</th>\n",
       "      <th>H</th>\n",
       "      <td>0</td>\n",
       "      <td>0</td>\n",
       "      <td>1</td>\n",
       "      <td>0</td>\n",
       "      <td>1</td>\n",
       "      <td>1</td>\n",
       "    </tr>\n",
       "  </tbody>\n",
       "</table>\n",
       "</div>"
      ],
      "text/plain": [
       "     1  2  3  4  5  6\n",
       "A B  1  1  1  0  0  0\n",
       "B D  0  1  1  0  0  0\n",
       "  C  1  0  0  0  0  0\n",
       "C D  0  0  0  1  1  0\n",
       "D E  0  1  1  1  1  0\n",
       "E G  0  0  1  0  1  0\n",
       "  F  0  1  0  1  0  0\n",
       "F G  0  0  0  0  0  1\n",
       "G H  0  0  1  0  1  1"
      ]
     },
     "execution_count": 49,
     "metadata": {},
     "output_type": "execute_result"
    }
   ],
   "source": [
    "link_path_matrix"
   ]
  },
  {
   "cell_type": "code",
   "execution_count": null,
   "metadata": {},
   "outputs": [],
   "source": [
    "# Get assignment matrix"
   ]
  },
  {
   "cell_type": "code",
   "execution_count": 66,
   "metadata": {},
   "outputs": [],
   "source": [
    "# Path Proportion Matrix\n",
    "# A matrix OD ID on the rows, path ID on columns\n",
    "# Assign proportion of each OD flow to paths IDs\n",
    "# In simple case, each OD only assigned to one path\n",
    "# TODO: code not designed for route choice scenario, below code is a cheat\n",
    "\n",
    "path_od_proportions = pd.DataFrame(0, index = list(paths.keys()), columns = list(ods.values()))\n",
    "np.fill_diagonal(path_od_proportions.values, 1)"
   ]
  },
  {
   "cell_type": "code",
   "execution_count": 70,
   "metadata": {},
   "outputs": [],
   "source": [
    "assignment_matrix = np.matmul(link_path_matrix.values,path_od_proportions.values)"
   ]
  },
  {
   "cell_type": "code",
   "execution_count": 71,
   "metadata": {},
   "outputs": [
    {
     "data": {
      "text/plain": [
       "array([[1, 1, 1, 0, 0, 0],\n",
       "       [0, 1, 1, 0, 0, 0],\n",
       "       [1, 0, 0, 0, 0, 0],\n",
       "       [0, 0, 0, 1, 1, 0],\n",
       "       [0, 1, 1, 1, 1, 0],\n",
       "       [0, 0, 1, 0, 1, 0],\n",
       "       [0, 1, 0, 1, 0, 0],\n",
       "       [0, 0, 0, 0, 0, 1],\n",
       "       [0, 0, 1, 0, 1, 1]])"
      ]
     },
     "execution_count": 71,
     "metadata": {},
     "output_type": "execute_result"
    }
   ],
   "source": [
    "assignment_matrix"
   ]
  },
  {
   "cell_type": "markdown",
   "metadata": {},
   "source": [
    "### Define An OD Matrix on Area of Study\n",
    "\n",
    "Naive way:\n",
    "- Define Total number of vehicles in system\n",
    "- Distribute with some randomness between all OD pairs\n",
    "\n",
    "More realistic way\n",
    "- Assign destinations some \"attractiveness\" level\n",
    "- Assign origins some popuation score\n",
    "- Assign ODs according to some gravity like function using above information"
   ]
  },
  {
   "cell_type": "code",
   "execution_count": 144,
   "metadata": {},
   "outputs": [],
   "source": [
    "# Naive OD Matrix Consturction\n",
    "num_v = 5000\n",
    "inrix_sample_rate = 0.05\n",
    "\n",
    "# Randomly distribute num_v to OD IDS\n",
    "od_mx = pd.DataFrame(0,index = list(G.nodes), columns= list(G.nodes))\n",
    "od_vct = np.zeros((len(ods)))\n",
    "od_vct_inrix = np.zeros((len(ods)))\n",
    "\n",
    "for i in range(num_v):\n",
    "    rnd_var = randrange(len(ods))\n",
    "    next_od = list(ods.keys())[rnd_var]\n",
    "    od_mx.loc[next_od[0],next_od[1]] += 1\n",
    "    od_vct[rnd_var] += 1\n",
    "    if uniform(0, 1) <= inrix_sample_rate:\n",
    "        od_vct_inrix[rnd_var] += 1"
   ]
  },
  {
   "cell_type": "code",
   "execution_count": 110,
   "metadata": {},
   "outputs": [],
   "source": [
    "# TODO - Gravity based OD Matrix"
   ]
  },
  {
   "cell_type": "code",
   "execution_count": 132,
   "metadata": {},
   "outputs": [],
   "source": [
    "# Function to apply flow to network using assignment matrix\n",
    "\n",
    "actual_flow = np.matmul(assignment_matrix , od_vct)"
   ]
  },
  {
   "cell_type": "code",
   "execution_count": 134,
   "metadata": {},
   "outputs": [],
   "source": [
    "#TODO plot on edges as heatmap"
   ]
  },
  {
   "cell_type": "markdown",
   "metadata": {},
   "source": [
    "### Sensor Readings\n",
    "\n",
    "1. INRIX sensors\n",
    "    - Randomly sample agents in OD matrix as being instrumented\n",
    "    - Apply to edges\n",
    "2. MIDAS\n",
    "    - Sense all traffic in set places on network with some smallish error term"
   ]
  },
  {
   "cell_type": "code",
   "execution_count": 147,
   "metadata": {},
   "outputs": [],
   "source": [
    "inrix_observed_flow = np.matmul(assignment_matrix , od_vct_inrix)"
   ]
  },
  {
   "cell_type": "code",
   "execution_count": 192,
   "metadata": {},
   "outputs": [],
   "source": [
    "#Taking MIDAS edge as the stretch of road between junction off and on ramps. This closely resembles real-world location of sensors in short straights.\n",
    "#MIDAS edge : BD, EG\n",
    "#MIDAS indexes : 1,5\n",
    "\n",
    "midas_flow1 = add_gaussian_noise(actual_flow[1], mean=0, std_dev=250)\n",
    "midas_flow2 = add_gaussian_noise(actual_flow[5], mean=0, std_dev=250)"
   ]
  }
 ],
 "metadata": {
  "kernelspec": {
   "display_name": "ad-sim",
   "language": "python",
   "name": "python3"
  },
  "language_info": {
   "codemirror_mode": {
    "name": "ipython",
    "version": 3
   },
   "file_extension": ".py",
   "mimetype": "text/x-python",
   "name": "python",
   "nbconvert_exporter": "python",
   "pygments_lexer": "ipython3",
   "version": "3.10.13"
  }
 },
 "nbformat": 4,
 "nbformat_minor": 2
}
